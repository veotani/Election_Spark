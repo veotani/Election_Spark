{
 "cells": [
  {
   "cell_type": "code",
   "execution_count": 1,
   "metadata": {},
   "outputs": [],
   "source": [
    "import pyspark\n",
    "import os\n",
    "\n",
    "from pyspark import SparkContext\n",
    "from pyspark.sql import SparkSession\n",
    "from pyspark.sql.types import StructType, StructField, StringType, IntegerType\n",
    "\n",
    "# Возможно нужно будет явно указать Spark'у откуда брать интерпретатор Python для worker'ов\n",
    "os.environ[\"PYSPARK_PYTHON\"]=\"python3\""
   ]
  },
  {
   "cell_type": "code",
   "execution_count": 2,
   "metadata": {},
   "outputs": [],
   "source": [
    "spark = SparkSession \\\n",
    "    .builder \\\n",
    "    .appName(\"PySpark\") \\\n",
    "    .getOrCreate()"
   ]
  },
  {
   "cell_type": "code",
   "execution_count": 14,
   "metadata": {},
   "outputs": [],
   "source": [
    "# \"Число избирателей, включенных в список избирателей \" \n",
    "# \"Число избирательных бюллетеней, полученных участковой избирательной комиссией\" \n",
    "# \"Число избирательных бюллетеней, выданных избирателям, проголосовавшим досрочно\" \n",
    "# \"Число избирательных бюллетеней, выданных в помещении для голосования в день голосования\"\n",
    "# \"Число избирательных бюллетеней, выданных вне помещения для голосования в день голосования\"\n",
    "# Число погашенных избирательных бюллетеней \n",
    "# Число избирательных бюллетеней в переносных ящиках для голосования\n",
    "# Число бюллетеней в стационарных ящиках для голосования\n",
    "# Число недействительных избирательных бюллетеней\n",
    "# Число действительных избирательных бюллетеней\n",
    "# Число утраченных избирательных бюллетеней\n",
    "# \"Число избирательных бюллетеней, не учтенных при получении \"\n",
    "# Бабурин Сергей Николаевич\n",
    "# Грудинин Павел Николаевич\n",
    "# Жириновский Владимир Вольфович\n",
    "# Путин Владимир Владимирович\n",
    "# Собчак Ксения Анатольевна\n",
    "# Сурайкин Максим Александрович\n",
    "# Титов Борис Юрьевич\n",
    "# Явлинский Григорий Алексеевич\n",
    "\n",
    "ELECTIONS_FILE = 'UIK_table.csv'\n",
    "\n",
    "schema= StructType([\n",
    "            StructField(\"region\",              StringType(), False), #1\n",
    "            StructField(\"tik\",                 StringType(), False), #2\n",
    "            StructField(\"uik\",                 StringType(), False), #3\n",
    "            StructField(\"voters_count\",        IntegerType(), False),#4\n",
    "            StructField(\"blanks_received\",     IntegerType(), False),#5\n",
    "            StructField(\"pre_voted_blanks\",    IntegerType(), False),#6\n",
    "            StructField(\"elec_day_blanks\",     IntegerType(), False),#7\n",
    "            StructField(\"not_elec_day_blanks\", IntegerType(), False),#8\n",
    "            StructField(\"cancel_blanks\",       IntegerType(), False),#9\n",
    "            StructField(\"tranf_box_blanks\",    IntegerType(), False),#10\n",
    "            StructField(\"stat_box_blanks\",     IntegerType(), False),#11\n",
    "            StructField(\"invalid_blanks\",      IntegerType(), False),#12\n",
    "            StructField(\"valid_blanks\",        IntegerType(), False),#13\n",
    "            StructField(\"lost_blanks\",         IntegerType(), False),#14\n",
    "            StructField(\"uncount_blanks\",      IntegerType(), False),#15\n",
    "            StructField(\"babur\",               IntegerType(), False),#16\n",
    "            StructField(\"grud\",                IntegerType(), False),#17\n",
    "            StructField(\"jirin\",               IntegerType(), False),#18\n",
    "            StructField(\"putin\",               IntegerType(), False),#19\n",
    "            StructField(\"soob\",                IntegerType(), False),#20\n",
    "            StructField(\"sur\",                 IntegerType(), False),#21\n",
    "            StructField(\"titov\",               IntegerType(), False),#22\n",
    "            StructField(\"yavl\",                IntegerType(), False)]#23\n",
    "        )\n",
    "\n",
    "df = spark.read.csv(ELECTIONS_FILE, schema=schema)"
   ]
  },
  {
   "cell_type": "markdown",
   "metadata": {},
   "source": [
    "#### найти явку (%) по всем регионам, результат отсортировать по убыванию"
   ]
  },
  {
   "cell_type": "code",
   "execution_count": 19,
   "metadata": {},
   "outputs": [
    {
     "name": "stdout",
     "output_type": "stream",
     "text": [
      "+--------------------+------------------+\n",
      "|              region|        appearance|\n",
      "+--------------------+------------------+\n",
      "|     Республика Тыва|0.9362542974951742|\n",
      "|Ямало-Ненецкий ав...|0.9187213306617982|\n",
      "|Кабардино-Балкарс...| 0.916978754085207|\n",
      "|Чеченская Республика|0.9150929703298174|\n",
      "|Республика Северн...|0.8993704831730909|\n",
      "| Республика Дагестан|0.8744351419820495|\n",
      "|Карачаево-Черкесс...|0.8734380939009899|\n",
      "| Кемеровская область|0.8307556958224817|\n",
      "|Чукотский автоном...|0.8226051697921947|\n",
      "|Республика Ингушетия|0.8195937165135314|\n",
      "|    Брянская область| 0.796597680757152|\n",
      "|   Тюменская область|0.7888296737637491|\n",
      "| Республика Мордовия|0.7783648793754097|\n",
      "|  Краснодарский край|0.7783466166202626|\n",
      "|Республика Татарс...|0.7736526548202729|\n",
      "|Чувашская Республ...|0.7621061419670118|\n",
      "|Республика Башкор...|0.7542120065745193|\n",
      "|  Республика Бурятия|0.7519133382510174|\n",
      "| Ставропольский край|0.7377007114684981|\n",
      "|  Пензенская область|0.7370819151521087|\n",
      "+--------------------+------------------+\n",
      "only showing top 20 rows\n",
      "\n"
     ]
    }
   ],
   "source": [
    "df.createOrReplaceTempView('election')\n",
    "\n",
    "region_appearance = spark.sql(\n",
    "    '''SELECT region, (SUM(tranf_box_blanks) + SUM(stat_box_blanks)) / SUM(voters_count) as appearance \n",
    "    FROM election\n",
    "    GROUP BY region\n",
    "    ORDER BY appearance DESC''')\n",
    "\n",
    "region_appearance.show()"
   ]
  },
  {
   "cell_type": "markdown",
   "metadata": {},
   "source": [
    "#### выбрать любимого кандидата и найти тот избиратльный участок, на котором он получил наибольший результат (учитывать участки на которых проголосовало больше 300 человек)"
   ]
  },
  {
   "cell_type": "code",
   "execution_count": 93,
   "metadata": {},
   "outputs": [
    {
     "name": "stdout",
     "output_type": "stream",
     "text": [
      "+---------------+--------------------+---------+------------------+\n",
      "|         region|                 tik|      uik|           percent|\n",
      "+---------------+--------------------+---------+------------------+\n",
      "|Приморский край|Владивосток, Фрун...|УИК №5863|0.4444444444444444|\n",
      "+---------------+--------------------+---------+------------------+\n",
      "only showing top 1 row\n",
      "\n"
     ]
    }
   ],
   "source": [
    "fav_cand = 'babur'\n",
    "fav_cand_results = spark.sql(f'''\n",
    "SELECT region, tik, uik, {fav_cand}/voters_count as percent \n",
    "FROM election \n",
    "ORDER BY percent DESC\n",
    "''')\n",
    "fav_cand_results.show(1)"
   ]
  },
  {
   "cell_type": "markdown",
   "metadata": {},
   "source": [
    "#### найти регион, где разница между ТИК с наибольшей явкой и наименьшей максимальна"
   ]
  },
  {
   "cell_type": "code",
   "execution_count": 85,
   "metadata": {},
   "outputs": [
    {
     "name": "stdout",
     "output_type": "stream",
     "text": [
      "+--------------------+-------------------+\n",
      "|              region|               diff|\n",
      "+--------------------+-------------------+\n",
      "|Архангельская обл...|0.49859164840684894|\n",
      "+--------------------+-------------------+\n",
      "only showing top 1 row\n",
      "\n"
     ]
    }
   ],
   "source": [
    "tik_appearance = spark.sql(f'''\n",
    "SELECT region, MAX(appearance) - MIN(appearance) as diff\n",
    "FROM\n",
    "    (SELECT region, tik, (SUM(tranf_box_blanks) + SUM(stat_box_blanks)) / SUM(voters_count) as appearance\n",
    "    FROM election\n",
    "    GROUP BY region, tik)\n",
    "GROUP BY region\n",
    "ORDER BY diff DESC\n",
    "''')\n",
    "tik_appearance.show(1)"
   ]
  },
  {
   "cell_type": "markdown",
   "metadata": {},
   "source": [
    "#### посчитать дисперсию по явке для каждого региона (учитывать УИК)"
   ]
  },
  {
   "cell_type": "code",
   "execution_count": 86,
   "metadata": {},
   "outputs": [
    {
     "name": "stdout",
     "output_type": "stream",
     "text": [
      "+--------------------+-------------------+\n",
      "|              region|                 sd|\n",
      "+--------------------+-------------------+\n",
      "| Сахалинская область|0.20188798623588156|\n",
      "|     Камчатский край|0.16873475777512123|\n",
      "|  Мурманская область|0.16742131453895345|\n",
      "|     Приморский край|0.16639015831512335|\n",
      "|Республика Адыгея...|0.16278424507727504|\n",
      "|   Самарская область| 0.1562883627711599|\n",
      "| Саратовская область|0.15426531267153373|\n",
      "| Республика Калмыкия|0.15350844523090657|\n",
      "| Воронежская область|0.14975754071870498|\n",
      "| Магаданская область|0.14387651017723133|\n",
      "|Республика Татарс...|0.14172353736111934|\n",
      "|    Липецкая область|0.14096365252591136|\n",
      "|Архангельская обл...|0.14094552956128326|\n",
      "|  Краснодарский край|0.13946578225528095|\n",
      "|    Хабаровский край|0.13811595897262202|\n",
      "|Белгородская область| 0.1375828241478792|\n",
      "| Ставропольский край|0.13411190491014102|\n",
      "|  Республика Бурятия|0.13308253052737126|\n",
      "|  Ростовская область|0.13138651268427387|\n",
      "|Чувашская Республ...|0.13041627601227343|\n",
      "+--------------------+-------------------+\n",
      "only showing top 20 rows\n",
      "\n"
     ]
    }
   ],
   "source": [
    "# Отсортировал для наглядности. Чтобы выполнить запрос, требуемый в задании, последнюю строку нужно убрать\n",
    "appearance_dispersion = spark.sql(f'''\n",
    "SELECT region, STDDEV((tranf_box_blanks + stat_box_blanks) / voters_count) as sd\n",
    "FROM election \n",
    "GROUP BY region\n",
    "ORDER BY sd DESC\n",
    "''')\n",
    "appearance_dispersion.show()"
   ]
  },
  {
   "cell_type": "markdown",
   "metadata": {},
   "source": [
    "#### для каждого кандидата посчитать таблицу: результат (%, округленный до целого) - количество УИК, на которых кандидат получил данный результат"
   ]
  },
  {
   "cell_type": "code",
   "execution_count": 105,
   "metadata": {},
   "outputs": [],
   "source": [
    "cand_tables = []\n",
    "\n",
    "candidates = [\"babur\", \"grud\", \"jirin\", \"putin\", \"soob\", \"sur\", \"titov\", \"yavl\"]\n",
    "\n",
    "for cand in candidates:\n",
    "    cand_table = spark.sql(f'''\n",
    "    SELECT result, COUNT(result) as count_res FROM\n",
    "        (SELECT uik, int(100 * {cand} / voters_count) as result\n",
    "        FROM election)\n",
    "    GROUP BY result\n",
    "    ORDER BY count_res DESC\n",
    "    ''')\n",
    "    cand_tables.append((cand, cand_table))"
   ]
  },
  {
   "cell_type": "code",
   "execution_count": 108,
   "metadata": {},
   "outputs": [
    {
     "name": "stdout",
     "output_type": "stream",
     "text": [
      "babur\n",
      "+------+---------+\n",
      "|result|count_res|\n",
      "+------+---------+\n",
      "|     0|    92019|\n",
      "|     1|     4431|\n",
      "|     2|      513|\n",
      "|     3|      152|\n",
      "|     4|       70|\n",
      "|     5|       30|\n",
      "|     6|       21|\n",
      "|     7|       16|\n",
      "|    10|        8|\n",
      "|     8|        8|\n",
      "|     9|        5|\n",
      "|    14|        3|\n",
      "|    16|        2|\n",
      "|    11|        2|\n",
      "|    20|        2|\n",
      "|    12|        1|\n",
      "|    17|        1|\n",
      "|    44|        1|\n",
      "|    18|        1|\n",
      "|    21|        1|\n",
      "+------+---------+\n",
      "only showing top 20 rows\n",
      "\n"
     ]
    }
   ],
   "source": [
    "print(cand_tables[0][0])\n",
    "cand_tables[0][1].show()"
   ]
  },
  {
   "cell_type": "code",
   "execution_count": 109,
   "metadata": {},
   "outputs": [
    {
     "name": "stdout",
     "output_type": "stream",
     "text": [
      "grud\n",
      "+------+---------+\n",
      "|result|count_res|\n",
      "+------+---------+\n",
      "|     7|    12752|\n",
      "|     6|    12082|\n",
      "|     8|    10966|\n",
      "|     5|     9500|\n",
      "|     9|     7860|\n",
      "|     4|     6942|\n",
      "|    10|     5740|\n",
      "|     3|     5233|\n",
      "|     2|     4331|\n",
      "|    11|     3943|\n",
      "|     1|     3700|\n",
      "|    12|     3022|\n",
      "|     0|     2449|\n",
      "|    13|     2266|\n",
      "|    14|     1534|\n",
      "|    15|     1185|\n",
      "|    16|      906|\n",
      "|    17|      632|\n",
      "|    18|      481|\n",
      "|    19|      322|\n",
      "+------+---------+\n",
      "only showing top 20 rows\n",
      "\n"
     ]
    }
   ],
   "source": [
    "print(cand_tables[1][0])\n",
    "cand_tables[1][1].show()"
   ]
  },
  {
   "cell_type": "code",
   "execution_count": 110,
   "metadata": {},
   "outputs": [
    {
     "name": "stdout",
     "output_type": "stream",
     "text": [
      "jirin\n",
      "+------+---------+\n",
      "|result|count_res|\n",
      "+------+---------+\n",
      "|     3|    21136|\n",
      "|     4|    18152|\n",
      "|     2|    15316|\n",
      "|     5|    11525|\n",
      "|     0|     7203|\n",
      "|     1|     6968|\n",
      "|     6|     6669|\n",
      "|     7|     3782|\n",
      "|     8|     2282|\n",
      "|     9|     1390|\n",
      "|    10|      868|\n",
      "|    11|      508|\n",
      "|    12|      328|\n",
      "|    13|      247|\n",
      "|    14|      167|\n",
      "|    15|      129|\n",
      "|    16|      110|\n",
      "|    17|       82|\n",
      "|    18|       62|\n",
      "|    20|       50|\n",
      "+------+---------+\n",
      "only showing top 20 rows\n",
      "\n"
     ]
    }
   ],
   "source": [
    "print(cand_tables[2][0])\n",
    "cand_tables[2][1].show()"
   ]
  },
  {
   "cell_type": "code",
   "execution_count": 111,
   "metadata": {},
   "outputs": [
    {
     "name": "stdout",
     "output_type": "stream",
     "text": [
      "putin\n",
      "+------+---------+\n",
      "|result|count_res|\n",
      "+------+---------+\n",
      "|    45|     3768|\n",
      "|    44|     3758|\n",
      "|    43|     3708|\n",
      "|    42|     3627|\n",
      "|    46|     3547|\n",
      "|    47|     3318|\n",
      "|    41|     3192|\n",
      "|    48|     3173|\n",
      "|    40|     2859|\n",
      "|    50|     2735|\n",
      "|    49|     2731|\n",
      "|    39|     2492|\n",
      "|    51|     2386|\n",
      "|    52|     2228|\n",
      "|    53|     2028|\n",
      "|    38|     1986|\n",
      "|    54|     1837|\n",
      "|    55|     1687|\n",
      "|    37|     1663|\n",
      "|    56|     1656|\n",
      "+------+---------+\n",
      "only showing top 20 rows\n",
      "\n"
     ]
    }
   ],
   "source": [
    "print(cand_tables[3][0])\n",
    "cand_tables[3][1].show()"
   ]
  },
  {
   "cell_type": "code",
   "execution_count": 112,
   "metadata": {},
   "outputs": [
    {
     "name": "stdout",
     "output_type": "stream",
     "text": [
      "soob\n",
      "+------+---------+\n",
      "|result|count_res|\n",
      "+------+---------+\n",
      "|     0|    64111|\n",
      "|     1|    23575|\n",
      "|     2|     6500|\n",
      "|     3|     1866|\n",
      "|     4|      653|\n",
      "|     5|      248|\n",
      "|     6|       80|\n",
      "|     7|       64|\n",
      "|     8|       49|\n",
      "|    10|       34|\n",
      "|     9|       28|\n",
      "|    11|       14|\n",
      "|    12|       14|\n",
      "|    14|       11|\n",
      "|    15|       10|\n",
      "|    13|        8|\n",
      "|    16|        4|\n",
      "|    17|        4|\n",
      "|    18|        4|\n",
      "|    25|        3|\n",
      "+------+---------+\n",
      "only showing top 20 rows\n",
      "\n"
     ]
    }
   ],
   "source": [
    "print(cand_tables[4][0])\n",
    "cand_tables[4][1].show()"
   ]
  },
  {
   "cell_type": "code",
   "execution_count": 113,
   "metadata": {},
   "outputs": [
    {
     "name": "stdout",
     "output_type": "stream",
     "text": [
      "sur\n",
      "+------+---------+\n",
      "|result|count_res|\n",
      "+------+---------+\n",
      "|     0|    90787|\n",
      "|     1|     5114|\n",
      "|     2|      794|\n",
      "|     3|      224|\n",
      "|     4|      141|\n",
      "|     5|       63|\n",
      "|     6|       51|\n",
      "|     7|       47|\n",
      "|     8|       44|\n",
      "|     9|       10|\n",
      "|    10|        8|\n",
      "|    16|        2|\n",
      "|    13|        1|\n",
      "|    12|        1|\n",
      "|    11|        1|\n",
      "|    14|        1|\n",
      "+------+---------+\n",
      "\n"
     ]
    }
   ],
   "source": [
    "print(cand_tables[5][0])\n",
    "cand_tables[5][1].show()"
   ]
  },
  {
   "cell_type": "code",
   "execution_count": 114,
   "metadata": {},
   "outputs": [
    {
     "name": "stdout",
     "output_type": "stream",
     "text": [
      "titov\n",
      "+------+---------+\n",
      "|result|count_res|\n",
      "+------+---------+\n",
      "|     0|    89910|\n",
      "|     1|     6642|\n",
      "|     2|      449|\n",
      "|     3|      125|\n",
      "|     4|       65|\n",
      "|     5|       32|\n",
      "|     6|       17|\n",
      "|     7|       13|\n",
      "|     8|       10|\n",
      "|    10|        4|\n",
      "|     9|        4|\n",
      "|    14|        3|\n",
      "|    12|        3|\n",
      "|    20|        2|\n",
      "|    11|        2|\n",
      "|    15|        2|\n",
      "|    17|        1|\n",
      "|    13|        1|\n",
      "|    23|        1|\n",
      "|    29|        1|\n",
      "+------+---------+\n",
      "only showing top 20 rows\n",
      "\n"
     ]
    }
   ],
   "source": [
    "print(cand_tables[6][0])\n",
    "cand_tables[6][1].show()"
   ]
  },
  {
   "cell_type": "code",
   "execution_count": 115,
   "metadata": {},
   "outputs": [
    {
     "name": "stdout",
     "output_type": "stream",
     "text": [
      "yavl\n",
      "+------+---------+\n",
      "|result|count_res|\n",
      "+------+---------+\n",
      "|     0|    82348|\n",
      "|     1|    11158|\n",
      "|     2|     2823|\n",
      "|     3|      676|\n",
      "|     4|      147|\n",
      "|     5|       52|\n",
      "|     6|       30|\n",
      "|     7|       18|\n",
      "|     8|       13|\n",
      "|    10|       12|\n",
      "|    14|        3|\n",
      "|    18|        2|\n",
      "|     9|        2|\n",
      "|    13|        1|\n",
      "|    21|        1|\n",
      "|    16|        1|\n",
      "|    19|        1|\n",
      "|    11|        1|\n",
      "+------+---------+\n",
      "\n"
     ]
    }
   ],
   "source": [
    "print(cand_tables[7][0])\n",
    "cand_tables[7][1].show()"
   ]
  },
  {
   "cell_type": "code",
   "execution_count": 118,
   "metadata": {},
   "outputs": [
    {
     "name": "stdout",
     "output_type": "stream",
     "text": [
      "+-----------------+\n",
      "|              res|\n",
      "+-----------------+\n",
      "|0.766374250924615|\n",
      "+-----------------+\n",
      "\n"
     ]
    }
   ],
   "source": [
    "election_res = spark.sql(f'''\n",
    "SELECT SUM(putin)/SUM(tranf_box_blanks + stat_box_blanks) as res FROM election\n",
    "''')\n",
    "election_res.show()"
   ]
  }
 ],
 "metadata": {
  "kernelspec": {
   "display_name": "Python 3",
   "language": "python",
   "name": "python3"
  },
  "language_info": {
   "codemirror_mode": {
    "name": "ipython",
    "version": 3
   },
   "file_extension": ".py",
   "mimetype": "text/x-python",
   "name": "python",
   "nbconvert_exporter": "python",
   "pygments_lexer": "ipython3",
   "version": "3.7.1"
  }
 },
 "nbformat": 4,
 "nbformat_minor": 2
}
